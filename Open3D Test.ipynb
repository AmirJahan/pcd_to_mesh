{
 "cells": [
  {
   "cell_type": "code",
   "execution_count": 1,
   "id": "86dee74c",
   "metadata": {},
   "outputs": [],
   "source": [
    "import open3d as o3d\n",
    "import numpy as np"
   ]
  },
  {
   "cell_type": "code",
   "execution_count": 2,
   "id": "0a54e0cd",
   "metadata": {},
   "outputs": [],
   "source": [
    "pcd = o3d.io.read_point_cloud(\"bun_zipper.ply\")\n"
   ]
  },
  {
   "cell_type": "code",
   "execution_count": null,
   "id": "0a35297e",
   "metadata": {},
   "outputs": [],
   "source": [
    "pcd.points"
   ]
  },
  {
   "cell_type": "code",
   "execution_count": null,
   "id": "8064ad05",
   "metadata": {},
   "outputs": [],
   "source": [
    "# This is specific to Mac. We don't run the visualization unless necessary\n",
    "\n",
    "o3d.visualization.draw_geometries([pcd],\n",
    "                                  window_name='Open3D', \n",
    "                                  width=1280, \n",
    "                                  height=720, \n",
    "                                  left=0, \n",
    "                                  top=0, \n",
    "                                  point_show_normal = False,\n",
    "                                  mesh_show_wireframe = False,\n",
    "                                  mesh_show_back_face = False)"
   ]
  },
  {
   "cell_type": "code",
   "execution_count": null,
   "id": "efd542cc",
   "metadata": {},
   "outputs": [],
   "source": [
    "pcd.points.count"
   ]
  },
  {
   "cell_type": "markdown",
   "id": "4e5dd986",
   "metadata": {},
   "source": [
    "## Make a copy of the point cloud that is down sampled \n",
    "## So, it has less points. "
   ]
  },
  {
   "cell_type": "code",
   "execution_count": null,
   "id": "8cdb5c14",
   "metadata": {},
   "outputs": [],
   "source": [
    "pcd.get_min_bound()"
   ]
  },
  {
   "cell_type": "code",
   "execution_count": null,
   "id": "6e82ce60",
   "metadata": {},
   "outputs": [],
   "source": [
    "pcd.get_max_bound()"
   ]
  },
  {
   "cell_type": "code",
   "execution_count": 3,
   "id": "d8855396",
   "metadata": {},
   "outputs": [
    {
     "data": {
      "text/plain": [
       "array([-0.02675991,  0.09521606,  0.00894711])"
      ]
     },
     "execution_count": 3,
     "metadata": {},
     "output_type": "execute_result"
    }
   ],
   "source": [
    "pcd.get_center()"
   ]
  },
  {
   "cell_type": "code",
   "execution_count": 5,
   "id": "0a8c28bb",
   "metadata": {},
   "outputs": [],
   "source": [
    "down_pcd = pcd.voxel_down_sample (voxel_size = .002)"
   ]
  },
  {
   "cell_type": "code",
   "execution_count": null,
   "id": "97066e8d",
   "metadata": {},
   "outputs": [],
   "source": [
    "down_pcd.points"
   ]
  },
  {
   "cell_type": "code",
   "execution_count": null,
   "id": "7197cb2f",
   "metadata": {},
   "outputs": [],
   "source": [
    "o3d.visualization.draw_geometries([down_pcd], \n",
    "                                  window_name='Open3D', \n",
    "                                  width=1024, \n",
    "                                  height=1024, \n",
    "                                  left=0, \n",
    "                                  top=0,\n",
    "                                  point_show_normal=False,\n",
    "                                  mesh_show_wireframe=False,\n",
    "                                  mesh_show_back_face=False,\n",
    "                                  lookat = [-0.02675991,  0.09521606,  0.00894711], \n",
    "                                  up = [0, 1, 0],\n",
    "                                  front = [0, .1, 1],\n",
    "                                  zoom = 0.1)"
   ]
  },
  {
   "cell_type": "code",
   "execution_count": null,
   "id": "4c71978d",
   "metadata": {},
   "outputs": [],
   "source": []
  },
  {
   "cell_type": "code",
   "execution_count": 2,
   "id": "2a54a8e5",
   "metadata": {},
   "outputs": [
    {
     "name": "stdout",
     "output_type": "stream",
     "text": [
      "[Open3D INFO] Downloading https://github.com/isl-org/open3d_downloads/releases/download/redwood/livingroom1-fragments-ply.zip\n",
      "[Open3D INFO] Downloaded to /Users/amir/open3d_data/download/LivingRoomPointClouds/livingroom1-fragments-ply.zip\n",
      "[Open3D INFO] Created directory /Users/amir/open3d_data/extract/LivingRoomPointClouds.\n",
      "[Open3D INFO] Extracting /Users/amir/open3d_data/download/LivingRoomPointClouds/livingroom1-fragments-ply.zip.\n",
      "[Open3D INFO] Extracted to /Users/amir/open3d_data/extract/LivingRoomPointClouds.\n"
     ]
    }
   ],
   "source": [
    "pcd = o3d.data.LivingRoomPointClouds()"
   ]
  },
  {
   "cell_type": "code",
   "execution_count": 3,
   "id": "ab6ea347",
   "metadata": {},
   "outputs": [
    {
     "data": {
      "text/plain": [
       "<open3d.cpu.pybind.data.LivingRoomPointClouds at 0x7fe8d85b2330>"
      ]
     },
     "execution_count": 3,
     "metadata": {},
     "output_type": "execute_result"
    }
   ],
   "source": [
    "pcd"
   ]
  },
  {
   "cell_type": "code",
   "execution_count": 2,
   "id": "5cce41bd",
   "metadata": {},
   "outputs": [],
   "source": [
    "pcd = o3d.io.read_point_cloud(\"living_room.ply\")\n"
   ]
  },
  {
   "cell_type": "code",
   "execution_count": 3,
   "id": "7a439a80",
   "metadata": {},
   "outputs": [
    {
     "data": {
      "text/plain": [
       "std::vector<Eigen::Vector3d> with 888100 elements.\n",
       "Use numpy.asarray() to access data."
      ]
     },
     "execution_count": 3,
     "metadata": {},
     "output_type": "execute_result"
    }
   ],
   "source": [
    "pcd.points"
   ]
  },
  {
   "cell_type": "markdown",
   "id": "4588f829",
   "metadata": {},
   "source": [
    "## Remove Outliers"
   ]
  },
  {
   "cell_type": "code",
   "execution_count": null,
   "id": "808fbe9f",
   "metadata": {},
   "outputs": [],
   "source": [
    "\n",
    "\n",
    "\n",
    "\n",
    "\n",
    "\n",
    "\n",
    "\n"
   ]
  },
  {
   "cell_type": "code",
   "execution_count": null,
   "id": "83893dc1",
   "metadata": {},
   "outputs": [],
   "source": [
    "pcl, indices = pcd.remove_radius_outlier (nb_points = 16,\n",
    "                                          radius = 5, \n",
    "                                          print_progress=True)"
   ]
  },
  {
   "cell_type": "code",
   "execution_count": 6,
   "id": "72d1a984",
   "metadata": {},
   "outputs": [
    {
     "data": {
      "text/plain": [
       "std::vector<Eigen::Vector3d> with 888086 elements.\n",
       "Use numpy.asarray() to access data."
      ]
     },
     "execution_count": 6,
     "metadata": {},
     "output_type": "execute_result"
    }
   ],
   "source": [
    "pcl.points"
   ]
  },
  {
   "cell_type": "code",
   "execution_count": null,
   "id": "8a42bec3",
   "metadata": {},
   "outputs": [],
   "source": []
  },
  {
   "cell_type": "code",
   "execution_count": null,
   "id": "f0d5ebc6",
   "metadata": {},
   "outputs": [],
   "source": []
  },
  {
   "cell_type": "code",
   "execution_count": null,
   "id": "bdc8a516",
   "metadata": {},
   "outputs": [],
   "source": []
  }
 ],
 "metadata": {
  "kernelspec": {
   "display_name": "Python 3 (ipykernel)",
   "language": "python",
   "name": "python3"
  },
  "language_info": {
   "codemirror_mode": {
    "name": "ipython",
    "version": 3
   },
   "file_extension": ".py",
   "mimetype": "text/x-python",
   "name": "python",
   "nbconvert_exporter": "python",
   "pygments_lexer": "ipython3",
   "version": "3.9.13"
  }
 },
 "nbformat": 4,
 "nbformat_minor": 5
}
