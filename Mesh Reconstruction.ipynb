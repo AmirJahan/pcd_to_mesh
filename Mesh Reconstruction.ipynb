{
 "cells": [
  {
   "cell_type": "code",
   "execution_count": 4,
   "id": "959410e2",
   "metadata": {},
   "outputs": [],
   "source": [
    "import numpy as np\n",
    "import open3d as o3d"
   ]
  },
  {
   "cell_type": "code",
   "execution_count": null,
   "id": "f228567b",
   "metadata": {},
   "outputs": [],
   "source": [
    "pcd = o3d.io.read_point_cloud (\"bun_zipper.ply\")"
   ]
  },
  {
   "cell_type": "code",
   "execution_count": null,
   "id": "b6c868d1",
   "metadata": {},
   "outputs": [],
   "source": [
    "pcd.estimate_normals()"
   ]
  },
  {
   "cell_type": "code",
   "execution_count": null,
   "id": "f3609bd4",
   "metadata": {},
   "outputs": [],
   "source": [
    "radii =  o3d.utility.DoubleVector ([0.005, 0.01, 0.02, 0.04])\n",
    "rec_mesh = o3d.geometry.TriangleMesh.create_from_point_cloud_ball_pivoting(pcd, \n",
    "                                                                          radii)\n",
    "\n",
    "\n",
    "o3d.io.write_triangle_mesh(\"exported.obj\",\n",
    "                           rec_mesh,\n",
    "                          print_progress=True)"
   ]
  },
  {
   "cell_type": "code",
   "execution_count": 5,
   "id": "5c84c2e8",
   "metadata": {},
   "outputs": [],
   "source": [
    "## Run the Poisson Surface Reconstruction\n",
    "\n",
    "pcd = o3d.io.read_point_cloud (\"bun_zipper.ply\")\n"
   ]
  },
  {
   "cell_type": "code",
   "execution_count": 6,
   "id": "6eebaf11",
   "metadata": {},
   "outputs": [],
   "source": [
    "pcd.estimate_normals()\n",
    "pcd.orient_normals_consistent_tangent_plane (100)\n"
   ]
  },
  {
   "cell_type": "code",
   "execution_count": 7,
   "id": "12828c63",
   "metadata": {},
   "outputs": [
    {
     "name": "stdout",
     "output_type": "stream",
     "text": [
      "[Open3D DEBUG] Input Points / Samples: 35947 / 35919\n",
      "[Open3D DEBUG] #   Got kernel density: 0.0634131 (s), 509.18 (MB) / 509.18 (MB) / 509 (MB)\n",
      "[Open3D DEBUG] #     Got normal field: 0.130807 (s), 517.523 (MB) / 517.523 (MB) / 517 (MB)\n",
      "[Open3D DEBUG] Point weight / Estimated Area: 8.611563e-05 / 3.095598e+00\n",
      "[Open3D DEBUG] #       Finalized tree: 0.528796 (s), 523.668 (MB) / 523.668 (MB) / 523 (MB)\n",
      "[Open3D DEBUG] #  Set FEM constraints: 1.59348 (s), 527.875 (MB) / 527.875 (MB) / 527 (MB)\n",
      "[Open3D DEBUG] #Set point constraints: 0.234901 (s), 527.902 (MB) / 527.902 (MB) / 527 (MB)\n",
      "[Open3D DEBUG] Leaf Nodes / Active Nodes / Ghost Nodes: 749232 / 356368 / 499897\n",
      "[Open3D DEBUG] Memory Usage: 527.902 MB\n",
      "[Open3D DEBUG] # Linear system solved: 97.1539 (s), 537.684 (MB) / 537.684 (MB) / 537 (MB)\n",
      "[Open3D DEBUG] Got average: 0.243154 (s), 538.129 (MB) / 538.129 (MB) / 538 (MB)\n",
      "[Open3D DEBUG] Iso-Value: 5.023580e-01 = 1.805826e+04 / 3.594700e+04\n",
      "[Open3D DEBUG] #          Total Solve:     210.9 (s),     565.2 (MB)\n"
     ]
    }
   ],
   "source": [
    "with o3d.utility.VerbosityContextManager(o3d.utility.VerbosityLevel.Debug) as cm:\n",
    "    mesh, densities = o3d.geometry.TriangleMesh.create_from_point_cloud_poisson(pcd, \n",
    "                                                                                depth=9)"
   ]
  },
  {
   "cell_type": "code",
   "execution_count": 9,
   "id": "e9d4319f",
   "metadata": {},
   "outputs": [
    {
     "name": "stdout",
     "output_type": "stream",
     "text": [
      "Cycle[0] Depth[0/9]:\tUpdated constraints / Got system / Solved in:  0.000 /  0.000 /  0.000\t(528.020 MB)\tNodes: 8\n",
      "CG: 1.1330e+00 -> 1.1330e+00 -> 3.5665e-06 (3.1e-06) [32651]\n",
      "Cycle[0] Depth[1/9]:\tUpdated constraints / Got system / Solved in:  0.012 /  0.000 /  0.000\t(528.090 MB)\tNodes: 27\n",
      "  GS: 2.7093e+00 -> 2.7093e+00 -> 2.5750e-04 (9.5e-05) [8]\n",
      "Cycle[0] Depth[2/9]:\tUpdated constraints / Got system / Solved in:  0.062 /  0.018 /  0.001\t(528.145 MB)\tNodes: 125\n",
      "    GS: 2.3375e+00 -> 2.3375e+00 -> 1.4919e-03 (6.4e-04) [8]\n",
      "Cycle[0] Depth[3/9]:\tUpdated constraints / Got system / Solved in:  0.031 /  0.084 /  0.188\t(528.211 MB)\tNodes: 729\n",
      "      GS: 2.6731e+00 -> 2.6731e+00 -> 1.0379e-02 (3.9e-03) [8]\n",
      "Cycle[0] Depth[4/9]:\tUpdated constraints / Got system / Solved in:  0.041 /  0.693 /  0.352\t(528.566 MB)\tNodes: 4913\n",
      "        GS: 2.6177e+00 -> 2.6177e+00 -> 1.7051e-02 (6.5e-03) [8]\n",
      "Cycle[0] Depth[5/9]:\tUpdated constraints / Got system / Solved in:  0.131 /  1.837 / 11.702\t(531.605 MB)\tNodes: 35937\n",
      "          GS: 2.2687e+00 -> 2.2687e+00 -> 1.4395e-02 (6.3e-03) [8]\n",
      "Cycle[0] Depth[6/9]:\tUpdated constraints / Got system / Solved in:  0.193 /  2.408 / 26.773\t(533.883 MB)\tNodes: 79640\n",
      "            GS: 1.5404e+00 -> 1.5404e+00 -> 9.8517e-03 (6.4e-03) [8]\n",
      "Cycle[0] Depth[7/9]:\tUpdated constraints / Got system / Solved in:  0.166 /  4.200 / 36.498\t(537.656 MB)\tNodes: 185616\n",
      "              GS: 7.2282e-01 -> 7.2282e-01 -> 1.3205e-03 (1.8e-03) [8]\n",
      "Cycle[0] Depth[8/9]:\tUpdated constraints / Got system / Solved in:  0.086 /  2.180 /  0.989\t(537.684 MB)\tNodes: 23984\n",
      "                GS: 7.1950e-02 -> 7.1950e-02 -> 6.1514e-06 (8.5e-05) [8]\n",
      "Cycle[0] Depth[9/9]:\tUpdated constraints / Got system / Solved in:  0.001 /  0.001 /  0.002\t(537.684 MB)\tNodes: 0\n",
      "                  GS: 0.0000e+00 -> 0.0000e+00 -> 0.0000e+00 (nan) [8]\n",
      "Writing OBJ: [====================================>   ] 90%\r"
     ]
    },
    {
     "data": {
      "text/plain": [
       "True"
      ]
     },
     "execution_count": 9,
     "metadata": {},
     "output_type": "execute_result"
    },
    {
     "name": "stdout",
     "output_type": "stream",
     "text": [
      "Writing OBJ: [=====================================>  ] 92%\r",
      "Writing OBJ: [======================================> ] 95%\r",
      "Writing OBJ: [=======================================>] 97%\r"
     ]
    }
   ],
   "source": [
    "o3d.io.write_triangle_mesh(\"exported_poisson.obj\",\n",
    "                           mesh,\n",
    "                          print_progress=True)"
   ]
  },
  {
   "cell_type": "code",
   "execution_count": null,
   "id": "67d41914",
   "metadata": {},
   "outputs": [],
   "source": []
  }
 ],
 "metadata": {
  "kernelspec": {
   "display_name": "Python 3 (ipykernel)",
   "language": "python",
   "name": "python3"
  },
  "language_info": {
   "codemirror_mode": {
    "name": "ipython",
    "version": 3
   },
   "file_extension": ".py",
   "mimetype": "text/x-python",
   "name": "python",
   "nbconvert_exporter": "python",
   "pygments_lexer": "ipython3",
   "version": "3.9.13"
  }
 },
 "nbformat": 4,
 "nbformat_minor": 5
}
